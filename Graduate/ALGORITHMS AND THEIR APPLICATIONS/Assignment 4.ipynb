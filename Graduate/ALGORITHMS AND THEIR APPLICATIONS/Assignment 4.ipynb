{
 "cells": [
  {
   "cell_type": "code",
   "execution_count": 1,
   "metadata": {
    "ExecuteTime": {
     "end_time": "2021-09-05T06:57:58.196715Z",
     "start_time": "2021-09-05T06:57:57.311356Z"
    }
   },
   "outputs": [],
   "source": [
    "import numpy as np\n",
    "import math\n",
    "import matplotlib.pyplot as plt"
   ]
  },
  {
   "cell_type": "code",
   "execution_count": 105,
   "metadata": {
    "ExecuteTime": {
     "end_time": "2021-05-03T17:17:15.013451Z",
     "start_time": "2021-05-03T17:17:14.999498Z"
    }
   },
   "outputs": [],
   "source": [
    "A = np.array([[1,0,2,1],[4,1,1,0],[0,1,3,0],[5,0,2,1]])\n",
    "B = np.array([[0,1,0,1],[2,1,1,4],[2,0,1,1],[1,3,5,0]])"
   ]
  },
  {
   "cell_type": "code",
   "execution_count": 106,
   "metadata": {
    "ExecuteTime": {
     "end_time": "2021-05-03T17:17:15.020433Z",
     "start_time": "2021-05-03T17:17:15.015448Z"
    }
   },
   "outputs": [],
   "source": [
    "def Div(X):\n",
    "    l = len(X) // 2\n",
    "    C00 = X[:l,:l]\n",
    "    C01 = X[:l,l:]\n",
    "    C10 = X[l:,:l]\n",
    "    C11 = X[l:,l:]\n",
    "    return C00,C01,C10,C11"
   ]
  },
  {
   "cell_type": "code",
   "execution_count": 135,
   "metadata": {
    "ExecuteTime": {
     "end_time": "2021-05-03T17:29:25.152150Z",
     "start_time": "2021-05-03T17:29:25.144157Z"
    }
   },
   "outputs": [],
   "source": [
    "def strassen (n, A, B, C):\n",
    "    A00,A01,A10,A11 = Div(A)\n",
    "    B00,B01,B10,B11 = Div(B)\n",
    "    \n",
    "    if (n <= 2):\n",
    "        C = np.dot(A,B)\n",
    "    else:        \n",
    "        M1 = M2 = M3 = M4 = M5 = M6 = M7 = np.array([])\n",
    "        M1 = strassen(n // 2, (A00 + A11), (B00 + B11), M1)\n",
    "        M2 = strassen(n // 2, (A10 + A11), B00, M2)\n",
    "        M3 = strassen(n // 2, A00, (B01 - B11), M3)\n",
    "        M4 = strassen(n // 2, A11, (B10 - B00), M4)\n",
    "        M5 = strassen(n // 2, (A00 + A01), B11, M5)\n",
    "        M6 = strassen(n // 2, (A10 - A00), (B00 + B01), M6)\n",
    "        M7 = strassen(n // 2, (A01 - A11), (B10 + B11), M7)\n",
    "\n",
    "        C =  np.vstack([np.hstack([M1+M4 -M5 + M7, M3 + M5]), np.hstack([M2 + M4, M1 - M2 + M3 + M6])])\n",
    "    return C"
   ]
  },
  {
   "cell_type": "code",
   "execution_count": 136,
   "metadata": {
    "ExecuteTime": {
     "end_time": "2021-05-03T17:29:25.988728Z",
     "start_time": "2021-05-03T17:29:25.982773Z"
    }
   },
   "outputs": [
    {
     "data": {
      "text/plain": [
       "array([[5, 4, 7, 3],\n",
       "       [4, 5, 2, 9],\n",
       "       [8, 1, 4, 7],\n",
       "       [5, 8, 7, 7]])"
      ]
     },
     "execution_count": 136,
     "metadata": {},
     "output_type": "execute_result"
    }
   ],
   "source": [
    "D = [[0 for cols in range(4)]for rows in range(4)]\n",
    "strassen(4, A, B, D)"
   ]
  },
  {
   "cell_type": "code",
   "execution_count": 2,
   "metadata": {
    "ExecuteTime": {
     "end_time": "2021-09-05T06:58:01.371663Z",
     "start_time": "2021-09-05T06:58:01.362703Z"
    }
   },
   "outputs": [],
   "source": [
    "def get_dis(x,y):\n",
    "    return math.sqrt((x[0]-y[0])**2 + (x[1]-y[1])**2)"
   ]
  },
  {
   "cell_type": "code",
   "execution_count": 3,
   "metadata": {
    "ExecuteTime": {
     "end_time": "2021-09-05T06:58:02.542218Z",
     "start_time": "2021-09-05T06:58:02.527231Z"
    }
   },
   "outputs": [],
   "source": [
    "def find_closest_pair(arr):\n",
    "    global rc\n",
    "    dis = 99999999\n",
    "    for x in range(len(arr)):\n",
    "        for y in range(x+1,len(arr)):\n",
    "            rc += 1\n",
    "            if dis > get_dis(arr[x],arr[y]):\n",
    "                dis = get_dis(arr[x],arr[y])\n",
    "    return dis"
   ]
  },
  {
   "cell_type": "code",
   "execution_count": 4,
   "metadata": {
    "ExecuteTime": {
     "end_time": "2021-09-05T06:58:03.636267Z",
     "start_time": "2021-09-05T06:58:03.627316Z"
    }
   },
   "outputs": [],
   "source": [
    "def ClosestPair(arr):\n",
    "    global rc\n",
    "    if (len(arr) <= 3):\n",
    "        return\n",
    "    else:\n",
    "        \n",
    "        # 2분할\n",
    "        m = len(arr) // 2\n",
    "        arr_left = arr[:m,:]\n",
    "        arr_right = arr[m:,:]\n",
    "        \n",
    "        # Pl,Pr 각각의 closest pair 중에 더 작은 값 구하기\n",
    "        d = min(find_closest_pair(arr_left), find_closest_pair(arr_right))\n",
    "        # 중간 범위에 포함되는 점들 담기\n",
    "        temp = []\n",
    "\n",
    "        for i in range(1,len(arr_left)):\n",
    "            rc += 1\n",
    "            if arr_left[-1][0] - arr_left[-i][0] < d:\n",
    "                temp.append(arr_left[-i])\n",
    "            else:\n",
    "                break\n",
    "                \n",
    "        for j in range(1,len(arr_right)):\n",
    "            rc += 1\n",
    "            if arr_right[j][0] - arr_right[0][0] < d:\n",
    "                temp.append(arr_right[j])\n",
    "            else:\n",
    "                break\n",
    "\n",
    "        # 중간 범위 점들간의 거리중 d보다 작은 것으로 갱신\n",
    "        for x in range(len(temp)):\n",
    "            for y in range(x+1,len(temp)):\n",
    "                rc += 1\n",
    "                if get_dis(temp[x],temp[y]) < d:\n",
    "                    d = get_dis(temp[x],temp[y])\n",
    "\n",
    "        return d"
   ]
  },
  {
   "cell_type": "code",
   "execution_count": 8,
   "metadata": {
    "ExecuteTime": {
     "end_time": "2021-09-05T06:58:09.209073Z",
     "start_time": "2021-09-05T06:58:08.802021Z"
    }
   },
   "outputs": [],
   "source": [
    "# uniform distribution을 따르는 2차원 평면상의 좌표 생성\n",
    "n = 900\n",
    "rc = 0\n",
    "uniform = np.random.uniform(low=0, high=1, size=(n,2))\n",
    "uniform = uniform[uniform[:, 0].argsort()]\n",
    "ClosestPair(uniform)\n",
    "runtime.append(rc)"
   ]
  },
  {
   "cell_type": "code",
   "execution_count": 9,
   "metadata": {
    "ExecuteTime": {
     "end_time": "2021-09-05T06:58:11.431466Z",
     "start_time": "2021-09-05T06:58:11.012971Z"
    }
   },
   "outputs": [
    {
     "data": {
      "text/plain": [
       "0.0005827549025078256"
      ]
     },
     "execution_count": 9,
     "metadata": {},
     "output_type": "execute_result"
    }
   ],
   "source": [
    "ClosestPair(uniform)"
   ]
  },
  {
   "cell_type": "code",
   "execution_count": 386,
   "metadata": {
    "ExecuteTime": {
     "end_time": "2021-05-10T18:41:05.923676Z",
     "start_time": "2021-05-10T18:41:05.782927Z"
    }
   },
   "outputs": [
    {
     "data": {
      "image/png": "[encoded data removed]",
      "text/plain": [
       "<Figure size 432x288 with 1 Axes>"
      ]
     },
     "metadata": {
      "needs_background": "light"
     },
     "output_type": "display_data"
    }
   ],
   "source": [
    "plt.plot([1000,3000,5000,7000,9000],runtime)\n",
    "plt.ylabel('runtime')\n",
    "plt.xlabel('n')\n",
    "plt.show()"
   ]
  }
 ],
 "metadata": {
  "kernelspec": {
   "display_name": "Python 3",
   "language": "python",
   "name": "python3"
  },
  "language_info": {
   "codemirror_mode": {
    "name": "ipython",
    "version": 3
   },
   "file_extension": ".py",
   "mimetype": "text/x-python",
   "name": "python",
   "nbconvert_exporter": "python",
   "pygments_lexer": "ipython3",
   "version": "3.8.8"
  },
  "toc": {
   "base_numbering": 1,
   "nav_menu": {},
   "number_sections": true,
   "sideBar": true,
   "skip_h1_title": false,
   "title_cell": "Table of Contents",
   "title_sidebar": "Contents",
   "toc_cell": false,
   "toc_position": {},
   "toc_section_display": true,
   "toc_window_display": false
  }
 },
 "nbformat": 4,
 "nbformat_minor": 4
}
