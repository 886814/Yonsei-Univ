{
 "cells": [
  {
   "cell_type": "code",
   "execution_count": null,
   "id": "68f3bcab",
   "metadata": {},
   "outputs": [],
   "source": [
    "# 이분탐색\n",
    "def solution(stones, k):\n",
    "    lt = min(stones)\n",
    "    rt = max(stones)\n",
    "    mid = (rt + lt) // 2\n",
    "    \n",
    "    while lt <= rt:\n",
    "        mid = (rt + lt) // 2\n",
    "        cnt = 0\n",
    "        for i in range(len(stones)):\n",
    "            if stones[i] - mid < 0:\n",
    "                cnt += 1\n",
    "            else:\n",
    "                cnt = 0\n",
    "            if cnt == k:\n",
    "                rt = mid - 1\n",
    "                break\n",
    "        else:\n",
    "            lt = mid + 1\n",
    "            result = mid\n",
    "            \n",
    "    return result"
   ]
  },
  {
   "cell_type": "code",
   "execution_count": null,
   "id": "ba3fcf4a",
   "metadata": {},
   "outputs": [],
   "source": [
    "# 완전탐색\n",
    "def search(data):\n",
    "    cnt = 0\n",
    "    temp = 0\n",
    "    for i in range(len(data)):\n",
    "        if data[i] == 0:\n",
    "            temp += 1\n",
    "            cnt = max(cnt,temp)\n",
    "        else:\n",
    "            temp = 0\n",
    "    return cnt\n",
    "\n",
    "def solution(stones, k):\n",
    "    answer = 0\n",
    "    while True:\n",
    "        for i in range(len(stones)):\n",
    "            if stones[i] - 1 >= 0:\n",
    "                stones[i] -= 1\n",
    "        else:\n",
    "            answer += 1\n",
    "        if search(stones) >= k:\n",
    "            break\n",
    "    return answer"
   ]
  },
  {
   "cell_type": "code",
   "execution_count": null,
   "id": "74bfb32b",
   "metadata": {},
   "outputs": [],
   "source": [
    "# 슬라이딩 윈도우\n",
    "from collections import deque\n",
    "def solution(stones, k):\n",
    "    n = len(stones)\n",
    "    d = [0] * n\n",
    "    dq = deque()\n",
    "    local_max = max(stones[:k])\n",
    "    if n == 1:\n",
    "        return stones[0]\n",
    "\n",
    "    for idx in range(n): \n",
    "        while dq and dq[-1][1] < stones[idx]:\n",
    "            dq.pop()\n",
    "\n",
    "        while dq and idx - dq[0][0] >= k:\n",
    "            dq.popleft()\n",
    "    \n",
    "        dq.append((idx, stones[idx]))\n",
    "        d[idx] = dq[0][1]\n",
    "    \n",
    "    return min(min(d[k:]),local_max)"
   ]
  }
 ],
 "metadata": {
  "kernelspec": {
   "display_name": "Python 3",
   "language": "python",
   "name": "python3"
  },
  "language_info": {
   "codemirror_mode": {
    "name": "ipython",
    "version": 3
   },
   "file_extension": ".py",
   "mimetype": "text/x-python",
   "name": "python",
   "nbconvert_exporter": "python",
   "pygments_lexer": "ipython3",
   "version": "3.8.8"
  }
 },
 "nbformat": 4,
 "nbformat_minor": 5
}
