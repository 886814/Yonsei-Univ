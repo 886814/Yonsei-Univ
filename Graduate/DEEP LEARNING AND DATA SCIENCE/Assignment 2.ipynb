{
 "cells": [
  {
   "cell_type": "code",
   "execution_count": 8,
   "metadata": {
    "ExecuteTime": {
     "end_time": "2021-06-18T06:58:46.917040Z",
     "start_time": "2021-06-18T06:58:46.871688Z"
    }
   },
   "outputs": [],
   "source": [
    "import numpy as np\n",
    "data = np.loadtxt(\"training.txt\")\n",
    "np.random.shuffle(data)\n",
    "train_x = data[:,0:2]\n",
    "train_y = data[:,-1]"
   ]
  },
  {
   "cell_type": "code",
   "execution_count": 9,
   "metadata": {
    "ExecuteTime": {
     "end_time": "2021-06-18T06:58:49.687740Z",
     "start_time": "2021-06-18T06:58:49.673778Z"
    }
   },
   "outputs": [],
   "source": [
    "def sigmoid(x):\n",
    "    return 1 / (1 +np.exp(-x))"
   ]
  },
  {
   "cell_type": "code",
   "execution_count": 3,
   "metadata": {
    "ExecuteTime": {
     "end_time": "2021-06-18T06:58:22.102754Z",
     "start_time": "2021-06-18T06:58:22.089788Z"
    }
   },
   "outputs": [],
   "source": [
    "class ann:\n",
    "    def __init__(self, input_size, hidden_size,output_size):\n",
    "        self.params = {}\n",
    "        self.params['W1'] = np.random.randn(input_size,hidden_size)\n",
    "        self.params['W2'] = np.random.randn(hidden_size,output_size)\n",
    "    \n",
    "    def gradient(self, x, y):\n",
    "        \n",
    "        W1,W2 = self.params['W1'],self.params['W2']\n",
    "        U = np.dot(x,W1)\n",
    "        H = sigmoid(U)\n",
    "        U2 = np.dot(H,W2)\n",
    "        Y = sigmoid(U2)\n",
    "        ERR2 = (Y-y)*Y*(1-Y)\n",
    "        ERR = np.dot((ERR2 * W2),np.dot(H,1-H))\n",
    "\n",
    "        return ERR,ERR2,H,Y"
   ]
  },
  {
   "cell_type": "code",
   "execution_count": 10,
   "metadata": {
    "ExecuteTime": {
     "end_time": "2021-06-18T06:59:14.477702Z",
     "start_time": "2021-06-18T06:59:14.460883Z"
    }
   },
   "outputs": [],
   "source": [
    "n_network = ann(input_size = 2,hidden_size = 8,output_size = 1)"
   ]
  },
  {
   "cell_type": "code",
   "execution_count": 5,
   "metadata": {
    "ExecuteTime": {
     "end_time": "2021-06-18T06:58:22.134688Z",
     "start_time": "2021-06-18T06:58:22.121703Z"
    }
   },
   "outputs": [],
   "source": [
    "epoch = 50\n",
    "batch_size = 1\n",
    "n_iterations =int(train_x.shape[0] / batch_size)\n",
    "learning_rate = 0.01"
   ]
  },
  {
   "cell_type": "code",
   "execution_count": 6,
   "metadata": {
    "ExecuteTime": {
     "end_time": "2021-06-18T06:58:23.881377Z",
     "start_time": "2021-06-18T06:58:22.136684Z"
    }
   },
   "outputs": [],
   "source": [
    "epoch_loss = []\n",
    "for i in range(epoch):\n",
    "    predict_y = []\n",
    "    for j in range(n_iterations):      \n",
    "        ERR,ERR2,H,Y = n_network.gradient(train_x[j],train_y[j])\n",
    "        n_network.params['W1'] -= (learning_rate * ERR * train_x[i]).T\n",
    "        n_network.params['W2'] -= np.reshape(learning_rate * ERR2 * H, (8,1))\n",
    "        predict_y.append(Y)   \n",
    "    loss = np.mean(((train_y - np.reshape(predict_y, (1000, )))**2)/2)\n",
    "    epoch_loss.append(loss)"
   ]
  },
  {
   "cell_type": "code",
   "execution_count": 7,
   "metadata": {
    "ExecuteTime": {
     "end_time": "2021-06-18T06:58:24.279341Z",
     "start_time": "2021-06-18T06:58:23.883374Z"
    }
   },
   "outputs": [
    {
     "data": {
      "image/png": "[encoded data removed]",
      "text/plain": [
       "<Figure size 432x288 with 1 Axes>"
      ]
     },
     "metadata": {
      "needs_background": "light"
     },
     "output_type": "display_data"
    }
   ],
   "source": [
    "from matplotlib import pyplot as plt\n",
    "plt.plot(epoch_loss)\n",
    "plt.title(\"the loss versus the number of epochs\")\n",
    "plt.xlabel(\"Number of epochs\")\n",
    "plt.ylabel(\"loss\")\n",
    "plt.show()"
   ]
  }
 ],
 "metadata": {
  "kernelspec": {
   "display_name": "Python 3",
   "language": "python",
   "name": "python3"
  },
  "language_info": {
   "codemirror_mode": {
    "name": "ipython",
    "version": 3
   },
   "file_extension": ".py",
   "mimetype": "text/x-python",
   "name": "python",
   "nbconvert_exporter": "python",
   "pygments_lexer": "ipython3",
   "version": "3.8.8"
  },
  "toc": {
   "base_numbering": 1,
   "nav_menu": {},
   "number_sections": true,
   "sideBar": true,
   "skip_h1_title": false,
   "title_cell": "Table of Contents",
   "title_sidebar": "Contents",
   "toc_cell": false,
   "toc_position": {},
   "toc_section_display": true,
   "toc_window_display": false
  }
 },
 "nbformat": 4,
 "nbformat_minor": 4
}
