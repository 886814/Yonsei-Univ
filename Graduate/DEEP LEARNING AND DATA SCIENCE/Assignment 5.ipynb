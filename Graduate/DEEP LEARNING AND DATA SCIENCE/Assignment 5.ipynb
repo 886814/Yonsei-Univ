{
 "cells": [
  {
   "cell_type": "code",
   "execution_count": 29,
   "metadata": {
    "ExecuteTime": {
     "end_time": "2021-06-18T07:09:12.670800Z",
     "start_time": "2021-06-18T07:09:12.657863Z"
    }
   },
   "outputs": [],
   "source": [
    "import pandas as pd\n",
    "import numpy as np\n",
    "import random\n",
    "import networkx as nx\n",
    "from matplotlib import pyplot as plt \n",
    "np.random.seed(15)"
   ]
  },
  {
   "cell_type": "code",
   "execution_count": 30,
   "metadata": {
    "ExecuteTime": {
     "end_time": "2021-06-18T07:09:12.685760Z",
     "start_time": "2021-06-18T07:09:12.672794Z"
    }
   },
   "outputs": [],
   "source": [
    "adjlist = nx.read_adjlist(\"karate_club.adjlist\", nodetype=int)\n",
    "karate_label = np.loadtxt(\"karate_label.txt\")\n",
    "Graph = nx.read_adjlist(\"karate_club.adjlist\", nodetype=int)\n",
    "node_number = nx.to_pandas_adjacency(Graph).columns\n",
    "adj = nx.to_numpy_array(adjlist)"
   ]
  },
  {
   "cell_type": "code",
   "execution_count": 31,
   "metadata": {
    "ExecuteTime": {
     "end_time": "2021-06-18T07:09:12.700982Z",
     "start_time": "2021-06-18T07:09:12.687755Z"
    }
   },
   "outputs": [],
   "source": [
    "def softmax(x):\n",
    "    c = np.max(x)\n",
    "    b = x-c\n",
    "    exp_x = np.exp(b)\n",
    "    sum_exp_x = np.sum(exp_x)\n",
    "    y = exp_x / sum_exp_x\n",
    "    return y"
   ]
  },
  {
   "cell_type": "code",
   "execution_count": 32,
   "metadata": {
    "ExecuteTime": {
     "end_time": "2021-06-18T07:09:12.717167Z",
     "start_time": "2021-06-18T07:09:12.702977Z"
    }
   },
   "outputs": [],
   "source": [
    "class ann:\n",
    "    def __init__(self, input_size, hidden_size,output_size):\n",
    "        self.params = {}\n",
    "        self.params['W1'] = np.random.randn(input_size,hidden_size)\n",
    "        self.params['W2'] = np.random.randn(hidden_size,output_size)\n",
    "    \n",
    "    def gradient(self, x, y):\n",
    "        W1,W2 = self.params['W1'],self.params['W2']\n",
    "        h = np.dot(x,W1)        \n",
    "        U2 = np.dot(h,W2)\n",
    "        Y = softmax(U2)      \n",
    "        diff = (Y-y)    \n",
    "        ERR2 = np.outer(h,diff)\n",
    "        ERR = np.outer(x,np.dot(W2,diff))        \n",
    "        return ERR,ERR2,diff,Y        "
   ]
  },
  {
   "cell_type": "code",
   "execution_count": 33,
   "metadata": {
    "ExecuteTime": {
     "end_time": "2021-06-18T07:09:12.732359Z",
     "start_time": "2021-06-18T07:09:12.718008Z"
    }
   },
   "outputs": [],
   "source": [
    "d = 4\n",
    "lr = 0.0001\n",
    "t = 10\n",
    "w = 3\n",
    "r = 5"
   ]
  },
  {
   "cell_type": "code",
   "execution_count": 34,
   "metadata": {
    "ExecuteTime": {
     "end_time": "2021-06-18T07:09:12.747767Z",
     "start_time": "2021-06-18T07:09:12.734251Z"
    }
   },
   "outputs": [],
   "source": [
    "n_network = ann(input_size = 34,hidden_size = d,output_size = 34)"
   ]
  },
  {
   "cell_type": "code",
   "execution_count": 35,
   "metadata": {
    "ExecuteTime": {
     "end_time": "2021-06-18T07:09:12.763335Z",
     "start_time": "2021-06-18T07:09:12.748767Z"
    }
   },
   "outputs": [],
   "source": [
    "def random_walk(vertex,t):\n",
    "    ans = []\n",
    "    ans.append(vertex)\n",
    "    \n",
    "    while True:\n",
    "        if len(ans) == t:\n",
    "            return ans\n",
    "            \n",
    "        vertex_adj_list = list(adj[vertex]) \n",
    "        near_vertex_index = np.nonzero(vertex_adj_list)\n",
    "        get_vertex = np.random.choice(list(near_vertex_index[0]),1)\n",
    "        ans.append(get_vertex[0])\n",
    "        vertex = get_vertex[0]"
   ]
  },
  {
   "cell_type": "code",
   "execution_count": 36,
   "metadata": {
    "ExecuteTime": {
     "end_time": "2021-06-18T07:09:12.779313Z",
     "start_time": "2021-06-18T07:09:12.766327Z"
    }
   },
   "outputs": [],
   "source": [
    "def skipgram(W,w,loss):\n",
    "    new_loss = np.zeros(34)\n",
    "    loss = 0\n",
    "    for idx, vertex in enumerate(W):\n",
    "        start = idx-w\n",
    "        end = idx+w\n",
    "        if start < 0:\n",
    "            start = 0\n",
    "        if end >= len(W):\n",
    "            end = len(W)-1\n",
    "\n",
    "        u_list = []\n",
    "        u_list.extend(W[start:idx])\n",
    "        u_list.extend(W[idx+1:end+1])\n",
    "        \n",
    "        for each_u in u_list:\n",
    "            input_vertex = np.zeros(34)\n",
    "            y_pred = np.zeros(34)\n",
    "            v = vertex\n",
    "            u = each_u\n",
    "            input_vertex[v] = 1\n",
    "            y_pred[u] = 1\n",
    "            ERR,ERR2,diff,Y = n_network.gradient(input_vertex,y_pred)\n",
    "            n_network.params['W1'] -= learning_rate * ERR\n",
    "            n_network.params['W2'] -= learning_rate * ERR2\n",
    "            loss += -np.log(Y[each_u])\n",
    "    return loss"
   ]
  },
  {
   "cell_type": "code",
   "execution_count": 37,
   "metadata": {
    "ExecuteTime": {
     "end_time": "2021-06-18T07:10:38.208462Z",
     "start_time": "2021-06-18T07:09:12.781285Z"
    }
   },
   "outputs": [],
   "source": [
    "epoch = 200\n",
    "epoch_loss2 = []\n",
    "loss = np.zeros((34,34))\n",
    "for _ in range(epoch):\n",
    "    epoch_loss = 0\n",
    "    for i in range(r):\n",
    "        O = np.arange(34) \n",
    "        np.random.shuffle(O)    \n",
    "        for vertex in O:\n",
    "            W = random_walk(vertex,t)\n",
    "            loss = skipgram(W,w,loss)\n",
    "            epoch_loss += (loss /len(W))\n",
    "    epoch_loss2.append(np.mean(epoch_loss)/(len(O)*r))"
   ]
  },
  {
   "cell_type": "code",
   "execution_count": 38,
   "metadata": {
    "ExecuteTime": {
     "end_time": "2021-06-18T07:10:38.352081Z",
     "start_time": "2021-06-18T07:10:38.210459Z"
    }
   },
   "outputs": [
    {
     "data": {
      "image/png": "[encoded data removed]",
      "text/plain": [
       "<Figure size 432x288 with 1 Axes>"
      ]
     },
     "metadata": {
      "needs_background": "light"
     },
     "output_type": "display_data"
    }
   ],
   "source": [
    "plt.plot(epoch_loss2)\n",
    "plt.title(\"the loss versus the number of epochs\")\n",
    "plt.xlabel(\"Number of epochs\")\n",
    "plt.ylabel(\"loss\")\n",
    "plt.show()"
   ]
  }
 ],
 "metadata": {
  "kernelspec": {
   "display_name": "Python 3",
   "language": "python",
   "name": "python3"
  },
  "language_info": {
   "codemirror_mode": {
    "name": "ipython",
    "version": 3
   },
   "file_extension": ".py",
   "mimetype": "text/x-python",
   "name": "python",
   "nbconvert_exporter": "python",
   "pygments_lexer": "ipython3",
   "version": "3.8.8"
  },
  "toc": {
   "base_numbering": 1,
   "nav_menu": {},
   "number_sections": true,
   "sideBar": true,
   "skip_h1_title": false,
   "title_cell": "Table of Contents",
   "title_sidebar": "Contents",
   "toc_cell": false,
   "toc_position": {},
   "toc_section_display": true,
   "toc_window_display": false
  }
 },
 "nbformat": 4,
 "nbformat_minor": 4
}
